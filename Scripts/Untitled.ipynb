{
 "cells": [
  {
   "cell_type": "code",
   "execution_count": 1,
   "id": "41f6e691-3618-41db-8af3-62643b6ef73d",
   "metadata": {},
   "outputs": [],
   "source": [
    "import pandas as pd\n",
    "from datetime import datetime"
   ]
  },
  {
   "cell_type": "code",
   "execution_count": 4,
   "id": "e04edd59-8d08-475b-b828-7dec5931eaf3",
   "metadata": {},
   "outputs": [],
   "source": [
    "df = pd.read_csv(\"../Data/raw/weather_init.csv\")"
   ]
  },
  {
   "cell_type": "code",
   "execution_count": 5,
   "id": "93b2b43e-363a-4a17-9983-3bea88880fa1",
   "metadata": {},
   "outputs": [
    {
     "data": {
      "text/html": [
       "<div>\n",
       "<style scoped>\n",
       "    .dataframe tbody tr th:only-of-type {\n",
       "        vertical-align: middle;\n",
       "    }\n",
       "\n",
       "    .dataframe tbody tr th {\n",
       "        vertical-align: top;\n",
       "    }\n",
       "\n",
       "    .dataframe thead th {\n",
       "        text-align: right;\n",
       "    }\n",
       "</style>\n",
       "<table border=\"1\" class=\"dataframe\">\n",
       "  <thead>\n",
       "    <tr style=\"text-align: right;\">\n",
       "      <th></th>\n",
       "      <th>timestamp</th>\n",
       "      <th>city</th>\n",
       "      <th>state</th>\n",
       "      <th>country</th>\n",
       "      <th>latitude</th>\n",
       "      <th>longitude</th>\n",
       "      <th>aqius</th>\n",
       "      <th>mainus</th>\n",
       "      <th>aqicn</th>\n",
       "      <th>maincn</th>\n",
       "      <th>temperature</th>\n",
       "      <th>humidity</th>\n",
       "      <th>pressure</th>\n",
       "      <th>wind_direction</th>\n",
       "      <th>wind_speed</th>\n",
       "    </tr>\n",
       "  </thead>\n",
       "  <tbody>\n",
       "    <tr>\n",
       "      <th>0</th>\n",
       "      <td>2025-06-25T20:00:00.000Z</td>\n",
       "      <td>Islamabad</td>\n",
       "      <td>Islamabad</td>\n",
       "      <td>Pakistan</td>\n",
       "      <td>33.697612</td>\n",
       "      <td>72.971079</td>\n",
       "      <td>105</td>\n",
       "      <td>p2</td>\n",
       "      <td>53</td>\n",
       "      <td>p2</td>\n",
       "      <td>30</td>\n",
       "      <td>63</td>\n",
       "      <td>999</td>\n",
       "      <td>126</td>\n",
       "      <td>3.29</td>\n",
       "    </tr>\n",
       "  </tbody>\n",
       "</table>\n",
       "</div>"
      ],
      "text/plain": [
       "                  timestamp       city      state   country   latitude  \\\n",
       "0  2025-06-25T20:00:00.000Z  Islamabad  Islamabad  Pakistan  33.697612   \n",
       "\n",
       "   longitude  aqius mainus  aqicn maincn  temperature  humidity  pressure  \\\n",
       "0  72.971079    105     p2     53     p2           30        63       999   \n",
       "\n",
       "   wind_direction  wind_speed  \n",
       "0             126        3.29  "
      ]
     },
     "execution_count": 5,
     "metadata": {},
     "output_type": "execute_result"
    }
   ],
   "source": [
    "df"
   ]
  },
  {
   "cell_type": "code",
   "execution_count": 6,
   "id": "8a84e52d-bb45-406c-ab32-f270e9f66c3d",
   "metadata": {},
   "outputs": [],
   "source": [
    "# Step 2: Add proper column names\n",
    "df.columns = [\n",
    "    \"timestamp\", \"city\", \"state\", \"country\", \"lat\", \"lon\",\n",
    "    \"aqius\", \"mainus\", \"aqicn\", \"maincn\", \"temperature\", \"humidity\",\n",
    "    \"pressure\", \"wind_direction\", \"wind_speed\"\n",
    "]\n"
   ]
  },
  {
   "cell_type": "code",
   "execution_count": 7,
   "id": "3c3c8da6-2897-4b64-9106-1500babfee35",
   "metadata": {},
   "outputs": [
    {
     "data": {
      "text/html": [
       "<div>\n",
       "<style scoped>\n",
       "    .dataframe tbody tr th:only-of-type {\n",
       "        vertical-align: middle;\n",
       "    }\n",
       "\n",
       "    .dataframe tbody tr th {\n",
       "        vertical-align: top;\n",
       "    }\n",
       "\n",
       "    .dataframe thead th {\n",
       "        text-align: right;\n",
       "    }\n",
       "</style>\n",
       "<table border=\"1\" class=\"dataframe\">\n",
       "  <thead>\n",
       "    <tr style=\"text-align: right;\">\n",
       "      <th></th>\n",
       "      <th>timestamp</th>\n",
       "      <th>city</th>\n",
       "      <th>state</th>\n",
       "      <th>country</th>\n",
       "      <th>lat</th>\n",
       "      <th>lon</th>\n",
       "      <th>aqius</th>\n",
       "      <th>mainus</th>\n",
       "      <th>aqicn</th>\n",
       "      <th>maincn</th>\n",
       "      <th>temperature</th>\n",
       "      <th>humidity</th>\n",
       "      <th>pressure</th>\n",
       "      <th>wind_direction</th>\n",
       "      <th>wind_speed</th>\n",
       "    </tr>\n",
       "  </thead>\n",
       "  <tbody>\n",
       "    <tr>\n",
       "      <th>0</th>\n",
       "      <td>2025-06-25T20:00:00.000Z</td>\n",
       "      <td>Islamabad</td>\n",
       "      <td>Islamabad</td>\n",
       "      <td>Pakistan</td>\n",
       "      <td>33.697612</td>\n",
       "      <td>72.971079</td>\n",
       "      <td>105</td>\n",
       "      <td>p2</td>\n",
       "      <td>53</td>\n",
       "      <td>p2</td>\n",
       "      <td>30</td>\n",
       "      <td>63</td>\n",
       "      <td>999</td>\n",
       "      <td>126</td>\n",
       "      <td>3.29</td>\n",
       "    </tr>\n",
       "  </tbody>\n",
       "</table>\n",
       "</div>"
      ],
      "text/plain": [
       "                  timestamp       city      state   country        lat  \\\n",
       "0  2025-06-25T20:00:00.000Z  Islamabad  Islamabad  Pakistan  33.697612   \n",
       "\n",
       "         lon  aqius mainus  aqicn maincn  temperature  humidity  pressure  \\\n",
       "0  72.971079    105     p2     53     p2           30        63       999   \n",
       "\n",
       "   wind_direction  wind_speed  \n",
       "0             126        3.29  "
      ]
     },
     "execution_count": 7,
     "metadata": {},
     "output_type": "execute_result"
    }
   ],
   "source": [
    "df"
   ]
  },
  {
   "cell_type": "code",
   "execution_count": 8,
   "id": "1871b46b-a65e-4374-b0bd-ad3bc174ce30",
   "metadata": {},
   "outputs": [],
   "source": [
    "df['timestamp'] = pd.to_datetime(df['timestamp'])\n"
   ]
  },
  {
   "cell_type": "code",
   "execution_count": 9,
   "id": "003dbc9c-9dd3-488e-b7ea-529108ba4b6a",
   "metadata": {},
   "outputs": [
    {
     "data": {
      "text/html": [
       "<div>\n",
       "<style scoped>\n",
       "    .dataframe tbody tr th:only-of-type {\n",
       "        vertical-align: middle;\n",
       "    }\n",
       "\n",
       "    .dataframe tbody tr th {\n",
       "        vertical-align: top;\n",
       "    }\n",
       "\n",
       "    .dataframe thead th {\n",
       "        text-align: right;\n",
       "    }\n",
       "</style>\n",
       "<table border=\"1\" class=\"dataframe\">\n",
       "  <thead>\n",
       "    <tr style=\"text-align: right;\">\n",
       "      <th></th>\n",
       "      <th>timestamp</th>\n",
       "      <th>city</th>\n",
       "      <th>state</th>\n",
       "      <th>country</th>\n",
       "      <th>lat</th>\n",
       "      <th>lon</th>\n",
       "      <th>aqius</th>\n",
       "      <th>mainus</th>\n",
       "      <th>aqicn</th>\n",
       "      <th>maincn</th>\n",
       "      <th>temperature</th>\n",
       "      <th>humidity</th>\n",
       "      <th>pressure</th>\n",
       "      <th>wind_direction</th>\n",
       "      <th>wind_speed</th>\n",
       "    </tr>\n",
       "  </thead>\n",
       "  <tbody>\n",
       "    <tr>\n",
       "      <th>0</th>\n",
       "      <td>2025-06-25 20:00:00+00:00</td>\n",
       "      <td>Islamabad</td>\n",
       "      <td>Islamabad</td>\n",
       "      <td>Pakistan</td>\n",
       "      <td>33.697612</td>\n",
       "      <td>72.971079</td>\n",
       "      <td>105</td>\n",
       "      <td>p2</td>\n",
       "      <td>53</td>\n",
       "      <td>p2</td>\n",
       "      <td>30</td>\n",
       "      <td>63</td>\n",
       "      <td>999</td>\n",
       "      <td>126</td>\n",
       "      <td>3.29</td>\n",
       "    </tr>\n",
       "  </tbody>\n",
       "</table>\n",
       "</div>"
      ],
      "text/plain": [
       "                  timestamp       city      state   country        lat  \\\n",
       "0 2025-06-25 20:00:00+00:00  Islamabad  Islamabad  Pakistan  33.697612   \n",
       "\n",
       "         lon  aqius mainus  aqicn maincn  temperature  humidity  pressure  \\\n",
       "0  72.971079    105     p2     53     p2           30        63       999   \n",
       "\n",
       "   wind_direction  wind_speed  \n",
       "0             126        3.29  "
      ]
     },
     "execution_count": 9,
     "metadata": {},
     "output_type": "execute_result"
    }
   ],
   "source": [
    "df"
   ]
  },
  {
   "cell_type": "code",
   "execution_count": 10,
   "id": "5ea608f6-203e-4f6b-8b2b-4c901645d5df",
   "metadata": {},
   "outputs": [],
   "source": [
    "df['hour'] = df['timestamp'].dt.hour\n",
    "df['day'] = df['timestamp'].dt.day\n",
    "df['month'] = df['timestamp'].dt.month\n",
    "df['weekday'] = df['timestamp'].dt.weekday"
   ]
  },
  {
   "cell_type": "code",
   "execution_count": 11,
   "id": "d2445c24-4935-496d-bf9b-48f8154adece",
   "metadata": {},
   "outputs": [
    {
     "data": {
      "text/html": [
       "<div>\n",
       "<style scoped>\n",
       "    .dataframe tbody tr th:only-of-type {\n",
       "        vertical-align: middle;\n",
       "    }\n",
       "\n",
       "    .dataframe tbody tr th {\n",
       "        vertical-align: top;\n",
       "    }\n",
       "\n",
       "    .dataframe thead th {\n",
       "        text-align: right;\n",
       "    }\n",
       "</style>\n",
       "<table border=\"1\" class=\"dataframe\">\n",
       "  <thead>\n",
       "    <tr style=\"text-align: right;\">\n",
       "      <th></th>\n",
       "      <th>timestamp</th>\n",
       "      <th>city</th>\n",
       "      <th>state</th>\n",
       "      <th>country</th>\n",
       "      <th>lat</th>\n",
       "      <th>lon</th>\n",
       "      <th>aqius</th>\n",
       "      <th>mainus</th>\n",
       "      <th>aqicn</th>\n",
       "      <th>maincn</th>\n",
       "      <th>temperature</th>\n",
       "      <th>humidity</th>\n",
       "      <th>pressure</th>\n",
       "      <th>wind_direction</th>\n",
       "      <th>wind_speed</th>\n",
       "      <th>hour</th>\n",
       "      <th>day</th>\n",
       "      <th>month</th>\n",
       "      <th>weekday</th>\n",
       "    </tr>\n",
       "  </thead>\n",
       "  <tbody>\n",
       "    <tr>\n",
       "      <th>0</th>\n",
       "      <td>2025-06-25 20:00:00+00:00</td>\n",
       "      <td>Islamabad</td>\n",
       "      <td>Islamabad</td>\n",
       "      <td>Pakistan</td>\n",
       "      <td>33.697612</td>\n",
       "      <td>72.971079</td>\n",
       "      <td>105</td>\n",
       "      <td>p2</td>\n",
       "      <td>53</td>\n",
       "      <td>p2</td>\n",
       "      <td>30</td>\n",
       "      <td>63</td>\n",
       "      <td>999</td>\n",
       "      <td>126</td>\n",
       "      <td>3.29</td>\n",
       "      <td>20</td>\n",
       "      <td>25</td>\n",
       "      <td>6</td>\n",
       "      <td>2</td>\n",
       "    </tr>\n",
       "  </tbody>\n",
       "</table>\n",
       "</div>"
      ],
      "text/plain": [
       "                  timestamp       city      state   country        lat  \\\n",
       "0 2025-06-25 20:00:00+00:00  Islamabad  Islamabad  Pakistan  33.697612   \n",
       "\n",
       "         lon  aqius mainus  aqicn maincn  temperature  humidity  pressure  \\\n",
       "0  72.971079    105     p2     53     p2           30        63       999   \n",
       "\n",
       "   wind_direction  wind_speed  hour  day  month  weekday  \n",
       "0             126        3.29    20   25      6        2  "
      ]
     },
     "execution_count": 11,
     "metadata": {},
     "output_type": "execute_result"
    }
   ],
   "source": [
    "df"
   ]
  },
  {
   "cell_type": "code",
   "execution_count": 12,
   "id": "fe4afcd7-85ff-4ab4-9787-13f3a97afc10",
   "metadata": {},
   "outputs": [],
   "source": [
    "df['aqius_change'] = df['aqius'].diff().fillna(0)"
   ]
  },
  {
   "cell_type": "code",
   "execution_count": 13,
   "id": "133caaa8-215b-44ba-b699-528254f82488",
   "metadata": {},
   "outputs": [],
   "source": [
    "df['aqius_future'] = df['aqius'].shift(-3)"
   ]
  },
  {
   "cell_type": "code",
   "execution_count": 15,
   "id": "caf15793-2393-4b2b-bf6b-966a6c078575",
   "metadata": {},
   "outputs": [],
   "source": [
    "df.to_csv(\"../Data/features.csv\", index=False)"
   ]
  },
  {
   "cell_type": "code",
   "execution_count": 16,
   "id": "3b8629e3-e3ac-4c76-8f9c-261c18c4ecd4",
   "metadata": {},
   "outputs": [
    {
     "data": {
      "text/html": [
       "<div>\n",
       "<style scoped>\n",
       "    .dataframe tbody tr th:only-of-type {\n",
       "        vertical-align: middle;\n",
       "    }\n",
       "\n",
       "    .dataframe tbody tr th {\n",
       "        vertical-align: top;\n",
       "    }\n",
       "\n",
       "    .dataframe thead th {\n",
       "        text-align: right;\n",
       "    }\n",
       "</style>\n",
       "<table border=\"1\" class=\"dataframe\">\n",
       "  <thead>\n",
       "    <tr style=\"text-align: right;\">\n",
       "      <th></th>\n",
       "      <th>timestamp</th>\n",
       "      <th>city</th>\n",
       "      <th>state</th>\n",
       "      <th>country</th>\n",
       "      <th>lat</th>\n",
       "      <th>lon</th>\n",
       "      <th>aqius</th>\n",
       "      <th>mainus</th>\n",
       "      <th>aqicn</th>\n",
       "      <th>maincn</th>\n",
       "      <th>...</th>\n",
       "      <th>humidity</th>\n",
       "      <th>pressure</th>\n",
       "      <th>wind_direction</th>\n",
       "      <th>wind_speed</th>\n",
       "      <th>hour</th>\n",
       "      <th>day</th>\n",
       "      <th>month</th>\n",
       "      <th>weekday</th>\n",
       "      <th>aqius_change</th>\n",
       "      <th>aqius_future</th>\n",
       "    </tr>\n",
       "  </thead>\n",
       "  <tbody>\n",
       "    <tr>\n",
       "      <th>0</th>\n",
       "      <td>2025-06-25 20:00:00+00:00</td>\n",
       "      <td>Islamabad</td>\n",
       "      <td>Islamabad</td>\n",
       "      <td>Pakistan</td>\n",
       "      <td>33.697612</td>\n",
       "      <td>72.971079</td>\n",
       "      <td>105</td>\n",
       "      <td>p2</td>\n",
       "      <td>53</td>\n",
       "      <td>p2</td>\n",
       "      <td>...</td>\n",
       "      <td>63</td>\n",
       "      <td>999</td>\n",
       "      <td>126</td>\n",
       "      <td>3.29</td>\n",
       "      <td>20</td>\n",
       "      <td>25</td>\n",
       "      <td>6</td>\n",
       "      <td>2</td>\n",
       "      <td>0.0</td>\n",
       "      <td>NaN</td>\n",
       "    </tr>\n",
       "  </tbody>\n",
       "</table>\n",
       "<p>1 rows × 21 columns</p>\n",
       "</div>"
      ],
      "text/plain": [
       "                  timestamp       city      state   country        lat  \\\n",
       "0 2025-06-25 20:00:00+00:00  Islamabad  Islamabad  Pakistan  33.697612   \n",
       "\n",
       "         lon  aqius mainus  aqicn maincn  ...  humidity  pressure  \\\n",
       "0  72.971079    105     p2     53     p2  ...        63       999   \n",
       "\n",
       "   wind_direction  wind_speed  hour  day  month  weekday  aqius_change  \\\n",
       "0             126        3.29    20   25      6        2           0.0   \n",
       "\n",
       "   aqius_future  \n",
       "0           NaN  \n",
       "\n",
       "[1 rows x 21 columns]"
      ]
     },
     "execution_count": 16,
     "metadata": {},
     "output_type": "execute_result"
    }
   ],
   "source": [
    "df"
   ]
  },
  {
   "cell_type": "code",
   "execution_count": null,
   "id": "50455da4-f710-44f9-8fe0-842832f9b449",
   "metadata": {},
   "outputs": [],
   "source": []
  }
 ],
 "metadata": {
  "kernelspec": {
   "display_name": "Python 3 (ipykernel)",
   "language": "python",
   "name": "python3"
  },
  "language_info": {
   "codemirror_mode": {
    "name": "ipython",
    "version": 3
   },
   "file_extension": ".py",
   "mimetype": "text/x-python",
   "name": "python",
   "nbconvert_exporter": "python",
   "pygments_lexer": "ipython3",
   "version": "3.13.3"
  }
 },
 "nbformat": 4,
 "nbformat_minor": 5
}
